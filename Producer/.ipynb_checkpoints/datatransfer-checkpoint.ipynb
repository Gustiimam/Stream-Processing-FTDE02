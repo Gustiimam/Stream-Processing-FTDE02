{
 "cells": [
  {
   "cell_type": "code",
   "execution_count": 2,
   "metadata": {},
   "outputs": [
    {
     "name": "stdout",
     "output_type": "stream",
     "text": [
      "Data telah dimasukkan ke tabel old_information.\n"
     ]
    }
   ],
   "source": [
    "import pandas as pd\n",
    "from sqlalchemy import create_engine\n",
    "import urllib.parse\n",
    "\n",
    "def insert_data_to_postgresql(df, table_name, db_url):\n",
    "    try:\n",
    "        engine = create_engine(db_url, pool_pre_ping=True)\n",
    "        df.to_sql(table_name, engine, if_exists='append', index=False)\n",
    "        print(f\"Data telah dimasukkan ke tabel {table_name}.\")\n",
    "    except Exception as e:\n",
    "        print(f\"Terjadi kesalahan: {e}\")\n",
    "\n",
    "# Path ke file CSV\n",
    "csv_path = \"C:/Data/Data engineer DigitalSkola/Project 4 - Stream Processing/Producer/Old_Information.csv\"\n",
    "data = pd.read_csv(csv_path)\n",
    "\n",
    "# Informasi koneksi ke PostgreSQL\n",
    "username = \"postgres\"\n",
    "password = \"postgres\"\n",
    "host = \"localhost\"\n",
    "port = \"5432\"\n",
    "database = \"stream_processing\"\n",
    "password = urllib.parse.quote_plus(password)\n",
    "\n",
    "# URL koneksi ke PostgreSQL\n",
    "db_url = f\"postgresql://{username}:{password}@{host}:{port}/{database}\"\n",
    "\n",
    "# Nama tabel di PostgreSQL\n",
    "table_name = \"old_information\"\n",
    "\n",
    "# Memasukkan data ke PostgreSQL\n",
    "insert_data_to_postgresql(data, table_name, db_url)\n"
   ]
  },
  {
   "cell_type": "code",
   "execution_count": null,
   "metadata": {},
   "outputs": [],
   "source": []
  }
 ],
 "metadata": {
  "kernelspec": {
   "display_name": "Python 3 (ipykernel)",
   "language": "python",
   "name": "python3"
  },
  "language_info": {
   "codemirror_mode": {
    "name": "ipython",
    "version": 3
   },
   "file_extension": ".py",
   "mimetype": "text/x-python",
   "name": "python",
   "nbconvert_exporter": "python",
   "pygments_lexer": "ipython3",
   "version": "3.9.19"
  }
 },
 "nbformat": 4,
 "nbformat_minor": 4
}
