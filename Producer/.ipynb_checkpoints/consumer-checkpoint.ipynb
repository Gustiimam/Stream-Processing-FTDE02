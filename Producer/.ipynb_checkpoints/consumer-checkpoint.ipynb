{
 "cells": [
  {
   "cell_type": "code",
   "execution_count": null,
   "id": "4cc5a558-8ca3-4a1e-a81b-a63df58258af",
   "metadata": {
    "tags": []
   },
   "outputs": [],
   "source": [
    "from kafka import KafkaConsumer\n",
    "import json\n",
    "import pandas as pd\n",
    "from sqlalchemy import create_engine\n",
    "import urllib.parse\n",
    "\n",
    "\n",
    "\n",
    "def insert_data_to_postgresql(df, table_name, db_url):\n",
    "    try:\n",
    "        engine = create_engine(db_url,pool_pre_ping=True)\n",
    "        df.to_sql(table_name, engine, if_exists='append', index=False)\n",
    "        print(f\"Data telah dimasukkan ke tabel {table_name}.\")\n",
    "    except Exception as e:\n",
    "        print(f\"Terjadi kesalahan: {e}\")\n",
    "\n",
    "if __name__ == \"__main__\":\n",
    "    consumer = KafkaConsumer(\n",
    "        'my-topic',\n",
    "        bootstrap_servers = ['localhost:9092'],\n",
    "        auto_offset_reset = 'earliest',\n",
    "        enable_auto_commit = True,\n",
    "        group_id = 'my-group-id',\n",
    "        value_deserializer=lambda x: x.decode('utf-8')\n",
    "    )\n",
    "    \n",
    "    # Informasi koneksi ke PostgreSQL better ganti ke localhost\n",
    "    username = \"postgres\"\n",
    "    password = \"postgres\"\n",
    "    host = \"localhost\"\n",
    "    port = \"5432\"\n",
    "    database = \"stream_processing\"\n",
    "    password = urllib.parse.quote_plus(password)\n",
    "\n",
    "    # URL koneksi ke PostgreSQL\n",
    "    db_url = f\"postgresql://{username}:{password}@{host}:{port}/{database}\"\n",
    "\n",
    "    table_name = \"New_information\"\n",
    "\n",
    "    for message in consumer:\n",
    "        message_value = message.value\n",
    "        print(f\"Menerima pesan:{message_value}\")\n",
    "        \n",
    "        if not message_value.strip():\n",
    "            print(\"Pesan kosong, melewati.\")\n",
    "            continue\n",
    "\n",
    "        try:\n",
    "            message_data = json.loads(message_value)\n",
    "            df=pd.DataFrame([message_value])\n",
    "            insert_data_to_postgresql(df, table_name, db_url)\n",
    "        except json.JSONDecodeError as e:\n",
    "            print(f\"Pesan tidak valid (bukan JSON): {message_value}. Error: {e}\")\n",
    "        except Exception as e:\n",
    "            print(f\"Terjadi kesalahan: {e}\")"
   ]
  },
  {
   "cell_type": "code",
   "execution_count": null,
   "id": "9a1ee844-11e0-4f58-8a82-29c053946475",
   "metadata": {},
   "outputs": [],
   "source": []
  },
  {
   "cell_type": "code",
   "execution_count": null,
   "id": "5db54227-d863-42bc-a5ed-b8a4f588ffe2",
   "metadata": {},
   "outputs": [],
   "source": []
  }
 ],
 "metadata": {
  "kernelspec": {
   "display_name": "Python 3 (ipykernel)",
   "language": "python",
   "name": "python3"
  },
  "language_info": {
   "codemirror_mode": {
    "name": "ipython",
    "version": 3
   },
   "file_extension": ".py",
   "mimetype": "text/x-python",
   "name": "python",
   "nbconvert_exporter": "python",
   "pygments_lexer": "ipython3",
   "version": "3.9.19"
  }
 },
 "nbformat": 4,
 "nbformat_minor": 5
}
